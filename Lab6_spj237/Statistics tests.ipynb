{
 "cells": [
  {
   "cell_type": "code",
   "execution_count": 18,
   "metadata": {},
   "outputs": [
    {
     "name": "stdout",
     "output_type": "stream",
     "text": [
      "Populating the interactive namespace from numpy and matplotlib\n"
     ]
    }
   ],
   "source": [
    "import scipy\n",
    "import numpy as np\n",
    "from scipy import stats\n",
    "import pylab as pl\n",
    "%pylab inline"
   ]
  },
  {
   "cell_type": "code",
   "execution_count": 19,
   "metadata": {},
   "outputs": [
    {
     "data": {
      "text/plain": [
       "KstestResult(statistic=0.085119804420973777, pvalue=0.44403770323441849)"
      ]
     },
     "execution_count": 19,
     "metadata": {},
     "output_type": "execute_result"
    }
   ],
   "source": [
    "myGsample = np.random.randn(100)\n",
    "stats.kstest(myGsample, 'norm')\n",
    "\n",
    "#kstest one sample and one distribution (comparing it to a normal one) \n",
    "#ts_2sam is for two samples"
   ]
  },
  {
   "cell_type": "code",
   "execution_count": 20,
   "metadata": {},
   "outputs": [],
   "source": [
    "#statistic, and p value is returned. so p value is high, makes sense because its part of the same"
   ]
  },
  {
   "cell_type": "code",
   "execution_count": 21,
   "metadata": {},
   "outputs": [
    {
     "data": {
      "text/plain": [
       "KstestResult(statistic=0.5, pvalue=0.0)"
      ]
     },
     "execution_count": 21,
     "metadata": {},
     "output_type": "execute_result"
    }
   ],
   "source": [
    "myPsample = np.random.poisson(1, 100)\n",
    "stats.kstest(myPsample, 'norm')"
   ]
  },
  {
   "cell_type": "code",
   "execution_count": 22,
   "metadata": {},
   "outputs": [],
   "source": [
    "#p value is 0, so you reject the null hypothesis. Sample didn't come "
   ]
  },
  {
   "cell_type": "code",
   "execution_count": 23,
   "metadata": {},
   "outputs": [
    {
     "data": {
      "text/plain": [
       "(array([  2.,   8.,  23.,  18.,  21.,  18.,   6.,   0.,   3.,   1.]),\n",
       " array([  81. ,   85.9,   90.8,   95.7,  100.6,  105.5,  110.4,  115.3,\n",
       "         120.2,  125.1,  130. ]),\n",
       " <a list of 10 Patch objects>)"
      ]
     },
     "execution_count": 23,
     "metadata": {},
     "output_type": "execute_result"
    },
    {
     "data": {
      "image/png": "[encoded data removed]",
      "text/plain": [
       "<matplotlib.figure.Figure at 0x7f31da05e6d8>"
      ]
     },
     "metadata": {},
     "output_type": "display_data"
    }
   ],
   "source": [
    "myPsample = np.random.poisson(100, 100)\n",
    "pl.hist(myPsample)"
   ]
  },
  {
   "cell_type": "code",
   "execution_count": 24,
   "metadata": {},
   "outputs": [],
   "source": [
    "#here the poisson looks like a normal"
   ]
  },
  {
   "cell_type": "code",
   "execution_count": 25,
   "metadata": {},
   "outputs": [
    {
     "data": {
      "text/plain": [
       "KstestResult(statistic=1.0, pvalue=0.0)"
      ]
     },
     "execution_count": 25,
     "metadata": {},
     "output_type": "execute_result"
    }
   ],
   "source": [
    "myPsample = np.random.poisson(100, 100)\n",
    "stats.kstest(myPsample, 'norm')"
   ]
  },
  {
   "cell_type": "code",
   "execution_count": 26,
   "metadata": {},
   "outputs": [],
   "source": [
    "#you would expect it to give a large p value because when lambda is high is poisson (100 in this case) looks like a normal distribution. But p is still 0, because the means and magnitude is very different"
   ]
  },
  {
   "cell_type": "code",
   "execution_count": 42,
   "metadata": {},
   "outputs": [
    {
     "data": {
      "text/plain": [
       "(array([  1.,   7.,   6.,  15.,  12.,  27.,  13.,  10.,   7.,   2.]),\n",
       " array([ -2.53062743e+00,  -2.02472523e+00,  -1.51882303e+00,\n",
       "         -1.01292082e+00,  -5.07018622e-01,  -1.11641927e-03,\n",
       "          5.04785783e-01,   1.01068799e+00,   1.51659019e+00,\n",
       "          2.02249239e+00,   2.52839459e+00]),\n",
       " <a list of 10 Patch objects>)"
      ]
     },
     "execution_count": 42,
     "metadata": {},
     "output_type": "execute_result"
    },
    {
     "data": {
      "image/png": "[encoded data removed]",
      "text/plain": [
       "<matplotlib.figure.Figure at 0x7f31ab8e6e48>"
      ]
     },
     "metadata": {},
     "output_type": "display_data"
    }
   ],
   "source": [
    "myPsample = np.random.poisson(100, 1000)\n",
    "myGsample = np.random.randn(100)\n",
    "pl.hist(myPsample)\n",
    "pl.hist(myGsample)\n",
    "#see how the number of samples is different in both - that decides the magnitude."
   ]
  },
  {
   "cell_type": "code",
   "execution_count": 43,
   "metadata": {},
   "outputs": [
    {
     "data": {
      "text/plain": [
       "(array([  3.,   1.,   7.,   8.,  18.,  20.,  19.,  12.,   7.,   5.]),\n",
       " array([-2.91373433, -2.38343609, -1.85313784, -1.3228396 , -0.79254135,\n",
       "        -0.2622431 ,  0.26805514,  0.79835339,  1.32865164,  1.85894988,\n",
       "         2.38924813]),\n",
       " <a list of 10 Patch objects>)"
      ]
     },
     "execution_count": 43,
     "metadata": {},
     "output_type": "execute_result"
    },
    {
     "data": {
      "image/png": "[encoded data removed]",
      "text/plain": [
       "<matplotlib.figure.Figure at 0x7f31ab90da90>"
      ]
     },
     "metadata": {},
     "output_type": "display_data"
    }
   ],
   "source": [
    "myPsample = (np.random.poisson(100, 100) - 100)/np.sqrt(100)\n",
    "myGsample = np.random.randn(100)\n",
    "pl.hist(myPsample)\n",
    "pl.hist(myGsample)"
   ]
  },
  {
   "cell_type": "code",
   "execution_count": 44,
   "metadata": {},
   "outputs": [
    {
     "data": {
      "text/plain": [
       "KstestResult(statistic=0.17000000000000004, pvalue=0.0053764066617958406)"
      ]
     },
     "execution_count": 44,
     "metadata": {},
     "output_type": "execute_result"
    }
   ],
   "source": [
    "stats.kstest(myPsample, 'norm')"
   ]
  },
  {
   "cell_type": "code",
   "execution_count": 45,
   "metadata": {},
   "outputs": [],
   "source": [
    "#here the p value is so low!! So you have adjusted for the number of samples and the mean. Since you just want to see the shape"
   ]
  },
  {
   "cell_type": "code",
   "execution_count": 46,
   "metadata": {},
   "outputs": [
    {
     "data": {
      "text/plain": [
       "Ks_2sampResult(statistic=0.24999999999999994, pvalue=0.0030312451667524991)"
      ]
     },
     "execution_count": 46,
     "metadata": {},
     "output_type": "execute_result"
    }
   ],
   "source": [
    "stats.ks_2samp(myPsample, myGsample)"
   ]
  },
  {
   "cell_type": "code",
   "execution_count": 47,
   "metadata": {},
   "outputs": [],
   "source": [
    "#see the return values for anderson, pearsonr, etc. by getting the ? after it. "
   ]
  },
  {
   "cell_type": "code",
   "execution_count": 48,
   "metadata": {},
   "outputs": [],
   "source": [
    "#anderson gives you the statistic which is the distance, and then the array for critical values at different significance level"
   ]
  },
  {
   "cell_type": "code",
   "execution_count": null,
   "metadata": {},
   "outputs": [],
   "source": []
  }
 ],
 "metadata": {
  "kernelspec": {
   "display_name": "PUI2016_Python3",
   "language": "python",
   "name": "pui2016_python3"
  },
  "language_info": {
   "codemirror_mode": {
    "name": "ipython",
    "version": 3
   },
   "file_extension": ".py",
   "mimetype": "text/x-python",
   "name": "python",
   "nbconvert_exporter": "python",
   "pygments_lexer": "ipython3",
   "version": "3.5.4"
  }
 },
 "nbformat": 4,
 "nbformat_minor": 2
}
